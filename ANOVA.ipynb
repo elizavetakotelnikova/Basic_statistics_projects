{
  "nbformat": 4,
  "nbformat_minor": 0,
  "metadata": {
    "colab": {
      "provenance": [],
      "authorship_tag": "ABX9TyOcE93AGh5G20+wgfcKXrMQ",
      "include_colab_link": true
    },
    "kernelspec": {
      "name": "python3",
      "display_name": "Python 3"
    },
    "language_info": {
      "name": "python"
    }
  },
  "cells": [
    {
      "cell_type": "markdown",
      "metadata": {
        "id": "view-in-github",
        "colab_type": "text"
      },
      "source": [
        "<a href=\"https://colab.research.google.com/github/elizavetakotelnikova/Basic_statistics_projects/blob/main/ANOVA.ipynb\" target=\"_parent\"><img src=\"https://colab.research.google.com/assets/colab-badge.svg\" alt=\"Open In Colab\"/></a>"
      ]
    },
    {
      "cell_type": "code",
      "source": [
        "# import libraires\n",
        "import pandas as pd\n",
        "from scipy import stats\n",
        "import seaborn as sns\n",
        "import statsmodels.api as sm\n",
        "from statsmodels.formula.api import ols\n",
        "\n",
        "URL = 'https://stepik.org/media/attachments/lesson/9250/atherosclerosis.csv'\n",
        "df = pd.read_csv(URL)\n",
        "df"
      ],
      "metadata": {
        "colab": {
          "base_uri": "https://localhost:8080/",
          "height": 423
        },
        "id": "7ZhNXTYYLwlu",
        "outputId": "6d7bde08-d491-47c5-acf1-cbfd2a0f9a6a"
      },
      "execution_count": 20,
      "outputs": [
        {
          "output_type": "execute_result",
          "data": {
            "text/plain": [
              "          expr  age dose\n",
              "0   107.351478    1   D1\n",
              "1   104.504438    1   D1\n",
              "2   103.435134    1   D1\n",
              "3   109.572882    1   D1\n",
              "4   114.993803    1   D1\n",
              "..         ...  ...  ...\n",
              "59  101.851582    2   D2\n",
              "60  105.239530    2   D2\n",
              "61   99.350198    2   D2\n",
              "62  108.091455    2   D2\n",
              "63  111.639129    2   D2\n",
              "\n",
              "[64 rows x 3 columns]"
            ],
            "text/html": [
              "\n",
              "  <div id=\"df-5c0ba63a-c135-421f-a840-572b364edbd4\">\n",
              "    <div class=\"colab-df-container\">\n",
              "      <div>\n",
              "<style scoped>\n",
              "    .dataframe tbody tr th:only-of-type {\n",
              "        vertical-align: middle;\n",
              "    }\n",
              "\n",
              "    .dataframe tbody tr th {\n",
              "        vertical-align: top;\n",
              "    }\n",
              "\n",
              "    .dataframe thead th {\n",
              "        text-align: right;\n",
              "    }\n",
              "</style>\n",
              "<table border=\"1\" class=\"dataframe\">\n",
              "  <thead>\n",
              "    <tr style=\"text-align: right;\">\n",
              "      <th></th>\n",
              "      <th>expr</th>\n",
              "      <th>age</th>\n",
              "      <th>dose</th>\n",
              "    </tr>\n",
              "  </thead>\n",
              "  <tbody>\n",
              "    <tr>\n",
              "      <th>0</th>\n",
              "      <td>107.351478</td>\n",
              "      <td>1</td>\n",
              "      <td>D1</td>\n",
              "    </tr>\n",
              "    <tr>\n",
              "      <th>1</th>\n",
              "      <td>104.504438</td>\n",
              "      <td>1</td>\n",
              "      <td>D1</td>\n",
              "    </tr>\n",
              "    <tr>\n",
              "      <th>2</th>\n",
              "      <td>103.435134</td>\n",
              "      <td>1</td>\n",
              "      <td>D1</td>\n",
              "    </tr>\n",
              "    <tr>\n",
              "      <th>3</th>\n",
              "      <td>109.572882</td>\n",
              "      <td>1</td>\n",
              "      <td>D1</td>\n",
              "    </tr>\n",
              "    <tr>\n",
              "      <th>4</th>\n",
              "      <td>114.993803</td>\n",
              "      <td>1</td>\n",
              "      <td>D1</td>\n",
              "    </tr>\n",
              "    <tr>\n",
              "      <th>...</th>\n",
              "      <td>...</td>\n",
              "      <td>...</td>\n",
              "      <td>...</td>\n",
              "    </tr>\n",
              "    <tr>\n",
              "      <th>59</th>\n",
              "      <td>101.851582</td>\n",
              "      <td>2</td>\n",
              "      <td>D2</td>\n",
              "    </tr>\n",
              "    <tr>\n",
              "      <th>60</th>\n",
              "      <td>105.239530</td>\n",
              "      <td>2</td>\n",
              "      <td>D2</td>\n",
              "    </tr>\n",
              "    <tr>\n",
              "      <th>61</th>\n",
              "      <td>99.350198</td>\n",
              "      <td>2</td>\n",
              "      <td>D2</td>\n",
              "    </tr>\n",
              "    <tr>\n",
              "      <th>62</th>\n",
              "      <td>108.091455</td>\n",
              "      <td>2</td>\n",
              "      <td>D2</td>\n",
              "    </tr>\n",
              "    <tr>\n",
              "      <th>63</th>\n",
              "      <td>111.639129</td>\n",
              "      <td>2</td>\n",
              "      <td>D2</td>\n",
              "    </tr>\n",
              "  </tbody>\n",
              "</table>\n",
              "<p>64 rows × 3 columns</p>\n",
              "</div>\n",
              "      <button class=\"colab-df-convert\" onclick=\"convertToInteractive('df-5c0ba63a-c135-421f-a840-572b364edbd4')\"\n",
              "              title=\"Convert this dataframe to an interactive table.\"\n",
              "              style=\"display:none;\">\n",
              "        \n",
              "  <svg xmlns=\"http://www.w3.org/2000/svg\" height=\"24px\"viewBox=\"0 0 24 24\"\n",
              "       width=\"24px\">\n",
              "    <path d=\"M0 0h24v24H0V0z\" fill=\"none\"/>\n",
              "    <path d=\"M18.56 5.44l.94 2.06.94-2.06 2.06-.94-2.06-.94-.94-2.06-.94 2.06-2.06.94zm-11 1L8.5 8.5l.94-2.06 2.06-.94-2.06-.94L8.5 2.5l-.94 2.06-2.06.94zm10 10l.94 2.06.94-2.06 2.06-.94-2.06-.94-.94-2.06-.94 2.06-2.06.94z\"/><path d=\"M17.41 7.96l-1.37-1.37c-.4-.4-.92-.59-1.43-.59-.52 0-1.04.2-1.43.59L10.3 9.45l-7.72 7.72c-.78.78-.78 2.05 0 2.83L4 21.41c.39.39.9.59 1.41.59.51 0 1.02-.2 1.41-.59l7.78-7.78 2.81-2.81c.8-.78.8-2.07 0-2.86zM5.41 20L4 18.59l7.72-7.72 1.47 1.35L5.41 20z\"/>\n",
              "  </svg>\n",
              "      </button>\n",
              "      \n",
              "  <style>\n",
              "    .colab-df-container {\n",
              "      display:flex;\n",
              "      flex-wrap:wrap;\n",
              "      gap: 12px;\n",
              "    }\n",
              "\n",
              "    .colab-df-convert {\n",
              "      background-color: #E8F0FE;\n",
              "      border: none;\n",
              "      border-radius: 50%;\n",
              "      cursor: pointer;\n",
              "      display: none;\n",
              "      fill: #1967D2;\n",
              "      height: 32px;\n",
              "      padding: 0 0 0 0;\n",
              "      width: 32px;\n",
              "    }\n",
              "\n",
              "    .colab-df-convert:hover {\n",
              "      background-color: #E2EBFA;\n",
              "      box-shadow: 0px 1px 2px rgba(60, 64, 67, 0.3), 0px 1px 3px 1px rgba(60, 64, 67, 0.15);\n",
              "      fill: #174EA6;\n",
              "    }\n",
              "\n",
              "    [theme=dark] .colab-df-convert {\n",
              "      background-color: #3B4455;\n",
              "      fill: #D2E3FC;\n",
              "    }\n",
              "\n",
              "    [theme=dark] .colab-df-convert:hover {\n",
              "      background-color: #434B5C;\n",
              "      box-shadow: 0px 1px 3px 1px rgba(0, 0, 0, 0.15);\n",
              "      filter: drop-shadow(0px 1px 2px rgba(0, 0, 0, 0.3));\n",
              "      fill: #FFFFFF;\n",
              "    }\n",
              "  </style>\n",
              "\n",
              "      <script>\n",
              "        const buttonEl =\n",
              "          document.querySelector('#df-5c0ba63a-c135-421f-a840-572b364edbd4 button.colab-df-convert');\n",
              "        buttonEl.style.display =\n",
              "          google.colab.kernel.accessAllowed ? 'block' : 'none';\n",
              "\n",
              "        async function convertToInteractive(key) {\n",
              "          const element = document.querySelector('#df-5c0ba63a-c135-421f-a840-572b364edbd4');\n",
              "          const dataTable =\n",
              "            await google.colab.kernel.invokeFunction('convertToInteractive',\n",
              "                                                     [key], {});\n",
              "          if (!dataTable) return;\n",
              "\n",
              "          const docLinkHtml = 'Like what you see? Visit the ' +\n",
              "            '<a target=\"_blank\" href=https://colab.research.google.com/notebooks/data_table.ipynb>data table notebook</a>'\n",
              "            + ' to learn more about interactive tables.';\n",
              "          element.innerHTML = '';\n",
              "          dataTable['output_type'] = 'display_data';\n",
              "          await google.colab.output.renderOutput(dataTable, element);\n",
              "          const docLink = document.createElement('div');\n",
              "          docLink.innerHTML = docLinkHtml;\n",
              "          element.appendChild(docLink);\n",
              "        }\n",
              "      </script>\n",
              "    </div>\n",
              "  </div>\n",
              "  "
            ]
          },
          "metadata": {},
          "execution_count": 20
        }
      ]
    },
    {
      "cell_type": "code",
      "source": [
        "df.columns"
      ],
      "metadata": {
        "colab": {
          "base_uri": "https://localhost:8080/"
        },
        "id": "q_vCo8PxMvaz",
        "outputId": "61d11b89-ed1f-47e9-d428-0139019321d7"
      },
      "execution_count": 21,
      "outputs": [
        {
          "output_type": "execute_result",
          "data": {
            "text/plain": [
              "Index(['expr', 'age', 'dose'], dtype='object')"
            ]
          },
          "metadata": {},
          "execution_count": 21
        }
      ]
    },
    {
      "cell_type": "code",
      "source": [
        "columns = ['expr', 'age']\n",
        "for col in  columns:\n",
        "    df[col] = pd.to_numeric(df[col], errors='coerce')"
      ],
      "metadata": {
        "id": "GynSZ9WtNJDN"
      },
      "execution_count": 22,
      "outputs": []
    },
    {
      "cell_type": "code",
      "source": [
        "df.boxplot('expr', by= 'dose', figsize=(14, 8), grid=True)"
      ],
      "metadata": {
        "colab": {
          "base_uri": "https://localhost:8080/",
          "height": 557
        },
        "id": "lUhygR_0zXsP",
        "outputId": "b0f9d510-a31c-4ddb-c094-534bd5f310fe"
      },
      "execution_count": 23,
      "outputs": [
        {
          "output_type": "execute_result",
          "data": {
            "text/plain": [
              "<Axes: title={'center': 'expr'}, xlabel='dose'>"
            ]
          },
          "metadata": {},
          "execution_count": 23
        },
        {
          "output_type": "display_data",
          "data": {
            "text/plain": [
              "<Figure size 1008x576 with 1 Axes>"
            ],
            "image/png": "[encoded data removed]"
          },
          "metadata": {
            "needs_background": "light"
          }
        }
      ]
    },
    {
      "cell_type": "code",
      "source": [
        "df.boxplot('expr', by= 'age', figsize=(14, 8), grid=True)"
      ],
      "metadata": {
        "id": "QwIfIhUSzvde",
        "colab": {
          "base_uri": "https://localhost:8080/",
          "height": 557
        },
        "outputId": "ef246115-8de0-4e59-cbcd-0487f92f1230"
      },
      "execution_count": 24,
      "outputs": [
        {
          "output_type": "execute_result",
          "data": {
            "text/plain": [
              "<Axes: title={'center': 'expr'}, xlabel='age'>"
            ]
          },
          "metadata": {},
          "execution_count": 24
        },
        {
          "output_type": "display_data",
          "data": {
            "text/plain": [
              "<Figure size 1008x576 with 1 Axes>"
            ],
            "image/png": "[encoded data removed]"
          },
          "metadata": {
            "needs_background": "light"
          }
        }
      ]
    },
    {
      "cell_type": "markdown",
      "source": [
        "Looking at boxplot graphics, we can see a significant difference in Means (grouped by age). Should definitely check it by finding F and P-values."
      ],
      "metadata": {
        "id": "vAW2_E_EvFSh"
      }
    },
    {
      "cell_type": "markdown",
      "source": [
        "# `Finding F and P-values`"
      ],
      "metadata": {
        "id": "nLS2G5og0dq2"
      }
    },
    {
      "cell_type": "code",
      "source": [
        "G1_A1_D1 = df[(df['age'] == 1) & (df['dose'] == 'D1')]\n",
        "G2_A1_D2 = df[(df['age'] == 1) & (df['dose'] == 'D2')]\n",
        "G3_A2_D1 = df[(df['age'] == 2) & (df['dose'] == 'D1')]\n",
        "G4_A2_D2 = df[(df['age'] == 2) & (df['dose'] == 'D2')]\n",
        "\n",
        "# Test\n",
        "G1_A1_D1"
      ],
      "metadata": {
        "id": "CW7v5gq80FXc",
        "colab": {
          "base_uri": "https://localhost:8080/",
          "height": 551
        },
        "outputId": "48f56f64-70cf-4cc7-ffcb-a2f4e63abd8a"
      },
      "execution_count": 25,
      "outputs": [
        {
          "output_type": "execute_result",
          "data": {
            "text/plain": [
              "          expr  age dose\n",
              "0   107.351478    1   D1\n",
              "1   104.504438    1   D1\n",
              "2   103.435134    1   D1\n",
              "3   109.572882    1   D1\n",
              "4   114.993803    1   D1\n",
              "5   106.060605    1   D1\n",
              "6   114.593613    1   D1\n",
              "7   103.445769    1   D1\n",
              "8   102.818702    1   D1\n",
              "9   105.053772    1   D1\n",
              "10  102.622521    1   D1\n",
              "11  101.556491    1   D1\n",
              "12   90.918788    1   D1\n",
              "13  107.078929    1   D1\n",
              "14  105.318178    1   D1\n",
              "15   96.810322    1   D1"
            ],
            "text/html": [
              "\n",
              "  <div id=\"df-99cdb05e-365a-450d-8f99-ce2c2c8bc03a\">\n",
              "    <div class=\"colab-df-container\">\n",
              "      <div>\n",
              "<style scoped>\n",
              "    .dataframe tbody tr th:only-of-type {\n",
              "        vertical-align: middle;\n",
              "    }\n",
              "\n",
              "    .dataframe tbody tr th {\n",
              "        vertical-align: top;\n",
              "    }\n",
              "\n",
              "    .dataframe thead th {\n",
              "        text-align: right;\n",
              "    }\n",
              "</style>\n",
              "<table border=\"1\" class=\"dataframe\">\n",
              "  <thead>\n",
              "    <tr style=\"text-align: right;\">\n",
              "      <th></th>\n",
              "      <th>expr</th>\n",
              "      <th>age</th>\n",
              "      <th>dose</th>\n",
              "    </tr>\n",
              "  </thead>\n",
              "  <tbody>\n",
              "    <tr>\n",
              "      <th>0</th>\n",
              "      <td>107.351478</td>\n",
              "      <td>1</td>\n",
              "      <td>D1</td>\n",
              "    </tr>\n",
              "    <tr>\n",
              "      <th>1</th>\n",
              "      <td>104.504438</td>\n",
              "      <td>1</td>\n",
              "      <td>D1</td>\n",
              "    </tr>\n",
              "    <tr>\n",
              "      <th>2</th>\n",
              "      <td>103.435134</td>\n",
              "      <td>1</td>\n",
              "      <td>D1</td>\n",
              "    </tr>\n",
              "    <tr>\n",
              "      <th>3</th>\n",
              "      <td>109.572882</td>\n",
              "      <td>1</td>\n",
              "      <td>D1</td>\n",
              "    </tr>\n",
              "    <tr>\n",
              "      <th>4</th>\n",
              "      <td>114.993803</td>\n",
              "      <td>1</td>\n",
              "      <td>D1</td>\n",
              "    </tr>\n",
              "    <tr>\n",
              "      <th>5</th>\n",
              "      <td>106.060605</td>\n",
              "      <td>1</td>\n",
              "      <td>D1</td>\n",
              "    </tr>\n",
              "    <tr>\n",
              "      <th>6</th>\n",
              "      <td>114.593613</td>\n",
              "      <td>1</td>\n",
              "      <td>D1</td>\n",
              "    </tr>\n",
              "    <tr>\n",
              "      <th>7</th>\n",
              "      <td>103.445769</td>\n",
              "      <td>1</td>\n",
              "      <td>D1</td>\n",
              "    </tr>\n",
              "    <tr>\n",
              "      <th>8</th>\n",
              "      <td>102.818702</td>\n",
              "      <td>1</td>\n",
              "      <td>D1</td>\n",
              "    </tr>\n",
              "    <tr>\n",
              "      <th>9</th>\n",
              "      <td>105.053772</td>\n",
              "      <td>1</td>\n",
              "      <td>D1</td>\n",
              "    </tr>\n",
              "    <tr>\n",
              "      <th>10</th>\n",
              "      <td>102.622521</td>\n",
              "      <td>1</td>\n",
              "      <td>D1</td>\n",
              "    </tr>\n",
              "    <tr>\n",
              "      <th>11</th>\n",
              "      <td>101.556491</td>\n",
              "      <td>1</td>\n",
              "      <td>D1</td>\n",
              "    </tr>\n",
              "    <tr>\n",
              "      <th>12</th>\n",
              "      <td>90.918788</td>\n",
              "      <td>1</td>\n",
              "      <td>D1</td>\n",
              "    </tr>\n",
              "    <tr>\n",
              "      <th>13</th>\n",
              "      <td>107.078929</td>\n",
              "      <td>1</td>\n",
              "      <td>D1</td>\n",
              "    </tr>\n",
              "    <tr>\n",
              "      <th>14</th>\n",
              "      <td>105.318178</td>\n",
              "      <td>1</td>\n",
              "      <td>D1</td>\n",
              "    </tr>\n",
              "    <tr>\n",
              "      <th>15</th>\n",
              "      <td>96.810322</td>\n",
              "      <td>1</td>\n",
              "      <td>D1</td>\n",
              "    </tr>\n",
              "  </tbody>\n",
              "</table>\n",
              "</div>\n",
              "      <button class=\"colab-df-convert\" onclick=\"convertToInteractive('df-99cdb05e-365a-450d-8f99-ce2c2c8bc03a')\"\n",
              "              title=\"Convert this dataframe to an interactive table.\"\n",
              "              style=\"display:none;\">\n",
              "        \n",
              "  <svg xmlns=\"http://www.w3.org/2000/svg\" height=\"24px\"viewBox=\"0 0 24 24\"\n",
              "       width=\"24px\">\n",
              "    <path d=\"M0 0h24v24H0V0z\" fill=\"none\"/>\n",
              "    <path d=\"M18.56 5.44l.94 2.06.94-2.06 2.06-.94-2.06-.94-.94-2.06-.94 2.06-2.06.94zm-11 1L8.5 8.5l.94-2.06 2.06-.94-2.06-.94L8.5 2.5l-.94 2.06-2.06.94zm10 10l.94 2.06.94-2.06 2.06-.94-2.06-.94-.94-2.06-.94 2.06-2.06.94z\"/><path d=\"M17.41 7.96l-1.37-1.37c-.4-.4-.92-.59-1.43-.59-.52 0-1.04.2-1.43.59L10.3 9.45l-7.72 7.72c-.78.78-.78 2.05 0 2.83L4 21.41c.39.39.9.59 1.41.59.51 0 1.02-.2 1.41-.59l7.78-7.78 2.81-2.81c.8-.78.8-2.07 0-2.86zM5.41 20L4 18.59l7.72-7.72 1.47 1.35L5.41 20z\"/>\n",
              "  </svg>\n",
              "      </button>\n",
              "      \n",
              "  <style>\n",
              "    .colab-df-container {\n",
              "      display:flex;\n",
              "      flex-wrap:wrap;\n",
              "      gap: 12px;\n",
              "    }\n",
              "\n",
              "    .colab-df-convert {\n",
              "      background-color: #E8F0FE;\n",
              "      border: none;\n",
              "      border-radius: 50%;\n",
              "      cursor: pointer;\n",
              "      display: none;\n",
              "      fill: #1967D2;\n",
              "      height: 32px;\n",
              "      padding: 0 0 0 0;\n",
              "      width: 32px;\n",
              "    }\n",
              "\n",
              "    .colab-df-convert:hover {\n",
              "      background-color: #E2EBFA;\n",
              "      box-shadow: 0px 1px 2px rgba(60, 64, 67, 0.3), 0px 1px 3px 1px rgba(60, 64, 67, 0.15);\n",
              "      fill: #174EA6;\n",
              "    }\n",
              "\n",
              "    [theme=dark] .colab-df-convert {\n",
              "      background-color: #3B4455;\n",
              "      fill: #D2E3FC;\n",
              "    }\n",
              "\n",
              "    [theme=dark] .colab-df-convert:hover {\n",
              "      background-color: #434B5C;\n",
              "      box-shadow: 0px 1px 3px 1px rgba(0, 0, 0, 0.15);\n",
              "      filter: drop-shadow(0px 1px 2px rgba(0, 0, 0, 0.3));\n",
              "      fill: #FFFFFF;\n",
              "    }\n",
              "  </style>\n",
              "\n",
              "      <script>\n",
              "        const buttonEl =\n",
              "          document.querySelector('#df-99cdb05e-365a-450d-8f99-ce2c2c8bc03a button.colab-df-convert');\n",
              "        buttonEl.style.display =\n",
              "          google.colab.kernel.accessAllowed ? 'block' : 'none';\n",
              "\n",
              "        async function convertToInteractive(key) {\n",
              "          const element = document.querySelector('#df-99cdb05e-365a-450d-8f99-ce2c2c8bc03a');\n",
              "          const dataTable =\n",
              "            await google.colab.kernel.invokeFunction('convertToInteractive',\n",
              "                                                     [key], {});\n",
              "          if (!dataTable) return;\n",
              "\n",
              "          const docLinkHtml = 'Like what you see? Visit the ' +\n",
              "            '<a target=\"_blank\" href=https://colab.research.google.com/notebooks/data_table.ipynb>data table notebook</a>'\n",
              "            + ' to learn more about interactive tables.';\n",
              "          element.innerHTML = '';\n",
              "          dataTable['output_type'] = 'display_data';\n",
              "          await google.colab.output.renderOutput(dataTable, element);\n",
              "          const docLink = document.createElement('div');\n",
              "          docLink.innerHTML = docLinkHtml;\n",
              "          element.appendChild(docLink);\n",
              "        }\n",
              "      </script>\n",
              "    </div>\n",
              "  </div>\n",
              "  "
            ]
          },
          "metadata": {},
          "execution_count": 25
        }
      ]
    },
    {
      "cell_type": "code",
      "source": [
        "# P > 0.05 and F over 2, tells us that compared 4 goups all together don't have statistically significant difference, but the results are \"on the border\"\n",
        "# In this case F is over 2, we can look at each group separately to understand if there is a correlation\n",
        "\n",
        "\n",
        "Res_A1_D1 = G1_A1_D1[\"expr\"]\n",
        "Res_A1_D2 = G2_A1_D2[\"expr\"]\n",
        "Res_A2_D1 = G3_A2_D1[\"expr\"]\n",
        "Res_A2_D2 = G4_A2_D2[\"expr\"]\n",
        "print(\"Results fot all 4 groups:\", stats.f_oneway(Res_A1_D1, Res_A1_D2, Res_A2_D1, Res_A2_D2))\n"
      ],
      "metadata": {
        "id": "aPGzbN69WBcJ",
        "colab": {
          "base_uri": "https://localhost:8080/"
        },
        "outputId": "7dfb0ed1-722a-46f1-d0ad-040cb4d35ebb"
      },
      "execution_count": 26,
      "outputs": [
        {
          "output_type": "stream",
          "name": "stdout",
          "text": [
            "Results fot all 4 groups: F_onewayResult(statistic=2.707638006827807, pvalue=0.05309710567334635)\n"
          ]
        }
      ]
    },
    {
      "cell_type": "code",
      "source": [
        "A1 = df[df[\"age\"] == 1][\"expr\"]\n",
        "A2 = df[df[\"age\"] == 2][\"expr\"]\n",
        "D1 = df[df[\"dose\"] == \"D1\"][\"expr\"]\n",
        "D2 = df[df[\"dose\"] == \"D2\"][\"expr\"]"
      ],
      "metadata": {
        "id": "GsGkiSGkb4Nw"
      },
      "execution_count": 27,
      "outputs": []
    },
    {
      "cell_type": "code",
      "source": [
        "# F and P-values for groups with age_one and group with dose_one\n",
        "\n",
        "stats.f_oneway(A1, D1)"
      ],
      "metadata": {
        "id": "Gw7khSk9aFEt",
        "colab": {
          "base_uri": "https://localhost:8080/"
        },
        "outputId": "ac1a7d15-96b9-40ce-ba6c-830fa0515b70"
      },
      "execution_count": 28,
      "outputs": [
        {
          "output_type": "execute_result",
          "data": {
            "text/plain": [
              "F_onewayResult(statistic=2.7975396104391184, pvalue=0.09944849951092954)"
            ]
          },
          "metadata": {},
          "execution_count": 28
        }
      ]
    },
    {
      "cell_type": "code",
      "source": [
        "# F and P-values for groups with age_one and group with dose_second\n",
        "\n",
        "stats.f_oneway(A1, D2)"
      ],
      "metadata": {
        "colab": {
          "base_uri": "https://localhost:8080/"
        },
        "id": "GF47FI7eu7bs",
        "outputId": "9360b82b-af00-4896-af0c-560afe04ed7e"
      },
      "execution_count": 29,
      "outputs": [
        {
          "output_type": "execute_result",
          "data": {
            "text/plain": [
              "F_onewayResult(statistic=0.9724991138629211, pvalue=0.3278906294824979)"
            ]
          },
          "metadata": {},
          "execution_count": 29
        }
      ]
    },
    {
      "cell_type": "code",
      "source": [
        "# F and P-values for groups with age_second and group with dose_one\n",
        "\n",
        "stats.f_oneway(A2, D1)"
      ],
      "metadata": {
        "id": "5naIhfTEaZzz",
        "colab": {
          "base_uri": "https://localhost:8080/"
        },
        "outputId": "783c1306-ec6e-4f9e-eaeb-7d0a6194e701"
      },
      "execution_count": 30,
      "outputs": [
        {
          "output_type": "execute_result",
          "data": {
            "text/plain": [
              "F_onewayResult(statistic=0.8403405909846235, pvalue=0.36285146466060336)"
            ]
          },
          "metadata": {},
          "execution_count": 30
        }
      ]
    },
    {
      "cell_type": "code",
      "source": [
        "# F and P-values for groups with age_second and group with dose_second\n",
        "\n",
        "stats.f_oneway(A2, D2)"
      ],
      "metadata": {
        "id": "7nZORhKGazZo",
        "colab": {
          "base_uri": "https://localhost:8080/"
        },
        "outputId": "f6b00f46-f114-440d-b101-9befc8b93e91"
      },
      "execution_count": 31,
      "outputs": [
        {
          "output_type": "execute_result",
          "data": {
            "text/plain": [
              "F_onewayResult(statistic=3.2601127057104002, pvalue=0.0758394699711344)"
            ]
          },
          "metadata": {},
          "execution_count": 31
        }
      ]
    },
    {
      "cell_type": "code",
      "source": [
        "# F and P-values for groups with age_one and group with age_second\n",
        "\n",
        "#Here we can see a statisically sigificant difference - p-value is way less than 0.05, F-value is 7.613\n",
        "#We can draw a conclusion that the results are quite different because of age \n",
        "\n",
        "stats.f_oneway(A1, A2)"
      ],
      "metadata": {
        "id": "icDswgDjbF44",
        "colab": {
          "base_uri": "https://localhost:8080/"
        },
        "outputId": "d7937c89-0f01-4fcd-ed7c-a65aec975402"
      },
      "execution_count": 32,
      "outputs": [
        {
          "output_type": "execute_result",
          "data": {
            "text/plain": [
              "F_onewayResult(statistic=7.612770077046976, pvalue=0.007608712054113225)"
            ]
          },
          "metadata": {},
          "execution_count": 32
        }
      ]
    },
    {
      "cell_type": "code",
      "source": [
        "# F and P-values for groups with dose_one and dose_two\n",
        "\n",
        "stats.f_oneway(D1, D2)"
      ],
      "metadata": {
        "id": "F2H54QF8btCs",
        "colab": {
          "base_uri": "https://localhost:8080/"
        },
        "outputId": "53001cd8-be67-445f-ef40-43657de88eaf"
      },
      "execution_count": 33,
      "outputs": [
        {
          "output_type": "execute_result",
          "data": {
            "text/plain": [
              "F_onewayResult(statistic=0.5862334097242099, pvalue=0.44678441580203143)"
            ]
          },
          "metadata": {},
          "execution_count": 33
        }
      ]
    },
    {
      "cell_type": "code",
      "source": [
        "# ANOVA, expr ~ age + dose\n",
        "\n",
        "model = ols('expr ~ age + dose', data=df).fit()\n",
        "result = sm.stats.anova_lm(model, type=2)\n",
        "\n",
        "print(result)"
      ],
      "metadata": {
        "id": "AF8Bt0SfdYPH",
        "colab": {
          "base_uri": "https://localhost:8080/"
        },
        "outputId": "376ec568-2ce0-4ba9-c68c-4bd79b20a2a1"
      },
      "execution_count": 49,
      "outputs": [
        {
          "output_type": "stream",
          "name": "stdout",
          "text": [
            "            df       sum_sq     mean_sq         F    PR(>F)\n",
            "dose       1.0    16.912241   16.912241  0.648351  0.423830\n",
            "age        1.0   197.452754  197.452754  7.569592  0.007804\n",
            "Residual  61.0  1591.184501   26.084992       NaN       NaN\n"
          ]
        }
      ]
    },
    {
      "cell_type": "code",
      "source": [
        "# Conclusion\n",
        "# Null hypothesis that age of participants does not have an impact is rejected, since we got a (p-value < 0.05) and (F > 7) when compared two age groups. Results have a significant difference by age.\n",
        "# In other cases, we haven't got any intersting result (p-value was > 0.05 and F-value was close to zero). Dose_one and dose_two do not affect the result significantly."
      ],
      "metadata": {
        "id": "iJh3Cs1HdqZr"
      },
      "execution_count": 36,
      "outputs": []
    }
  ]
}